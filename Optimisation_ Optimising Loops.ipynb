{
 "cells": [
  {
   "cell_type": "markdown",
   "metadata": {
    "id": "-bbQS4NRJjwl"
   },
   "source": [
    "# Optimising Loops\n",
    "Loops in Python are slow. They take time to implement themselves and, more importantly, cause sections of code to be repeated a potentially very large number of times. Thus, when optimising, it is very often loops where we will look to optimise first (assuming this is what the profiling leads us to believe is important).\n",
    "\n",
    "When optimising loops, a general principle is to optimise the innermost loop first as its contents will always be carried out more times than any other.\n",
    "\n",
    "If it's possible to eliminate a loop, this is almost always advantageous. This may be done by noticing the loop is expressible as a multiplication, arithmetic sum, geometric sum, etc.\n",
    "\n",
    "## List comprehensions\n",
    "\n",
    "One way to remove a loop is to replace it with a [list comprehension](https://www.datacamp.com/community/tutorials/python-list-comprehension). Due to time constraints, we're not going to offer a full discussion of list comprehensions here, but the example below should give you a rough idea of how to use one. This syntax is able to populate a list without an explicit ```for``` loop and the lack of the loop speeds up the code considerably. For example, take the code: "
   ]
  },
  {
   "cell_type": "code",
   "execution_count": null,
   "metadata": {
    "id": "Z7XXWpPvJimi"
   },
   "outputs": [],
   "source": [
    "%pip install line_profiler\n",
    "%load_ext line_profiler\n",
    "\n",
    "def make_list():\n",
    "  #This function makes a list of a million elements with each being equal to the square of its index\n",
    "  my_list = []\n",
    "\n",
    "  for i in range(1000000):\n",
    "    my_list.append(i**2)\n",
    "\n",
    "  return my_list\n",
    "\n",
    "%lprun -f make_list print(make_list()[-10:])"
   ]
  },
  {
   "cell_type": "markdown",
   "metadata": {
    "id": "JXNopKZwMrAn"
   },
   "source": [
    "We can replace the ```for``` loop with a list comprehension:"
   ]
  },
  {
   "cell_type": "code",
   "execution_count": null,
   "metadata": {
    "id": "61PeV6ILMv_l"
   },
   "outputs": [],
   "source": [
    "%pip install line_profiler\n",
    "%load_ext line_profiler\n",
    "\n",
    "def make_list():\n",
    "  #This function makes a list of a million elements with each being equal to the square of its index\n",
    "  my_list = [i**2 for i in range(1000000)]\n",
    "\n",
    "  return my_list\n",
    "\n",
    "%lprun -f make_list print(make_list()[-10:])"
   ]
  },
  {
   "cell_type": "markdown",
   "metadata": {
    "id": "iRNty5agNMkt"
   },
   "source": [
    "This runs much faster and is also more compact and arguably easier to read once you're familiar with the syntax.\n",
    "\n",
    "### Converting a range to a list\n",
    "\n",
    "If you want a list of ascending numbers, operating on a ```range``` with the ```list()``` command can be even faster than a list comprehension."
   ]
  },
  {
   "cell_type": "code",
   "execution_count": null,
   "metadata": {
    "id": "ug1Hq6TkmCCz"
   },
   "outputs": [],
   "source": [
    "%pip install line_profiler\n",
    "%load_ext line_profiler\n",
    "\n",
    "def make_list():\n",
    "  # A list comprehension\n",
    "  my_list = [i for i in range(100000)]\n",
    "\n",
    "  # list(range()) syntax\n",
    "  my_list = list(range(100000))\n",
    "\n",
    "  return my_list\n",
    "\n",
    "%lprun -f make_list print(make_list()[-10:])"
   ]
  },
  {
   "cell_type": "markdown",
   "metadata": {
    "id": "wQJe6ACalxX6"
   },
   "source": [
    "## The ```Map``` Function\n",
    "\n",
    "The map operates on every entry of an iterable (such as a ```list```) with a specified function and returns an iterable with the results. This can then be converted back to another iterable class. For instance:"
   ]
  },
  {
   "cell_type": "code",
   "execution_count": null,
   "metadata": {
    "id": "rpJS81YUOnLm"
   },
   "outputs": [],
   "source": [
    "import math\n",
    "\n",
    "my_list = [0, 1, 2, 3, 4, 5, 6, 7, 8, 9, 10]\n",
    "\n",
    "print(\"my_list: \", my_list)\n",
    "\n",
    "my_map = map(math.cos, my_list)\n",
    "\n",
    "print(\"my_map: \", list(my_map))"
   ]
  },
  {
   "cell_type": "markdown",
   "metadata": {
    "id": "IqDUOBRsPtjp"
   },
   "source": [
    "This is interesting from the perspective of performance as the map function is not explicitly represented in our code. Instead it is contained in the definition of the map function (it is written in C). Because of this, the map function has a more efficient implementation of a the loop as the map function fulfills a more specific role than a generic ```for``` loop and so is very often faster to execute.\n",
    "\n",
    "For example, we can compare the following two pieces of code:"
   ]
  },
  {
   "cell_type": "code",
   "execution_count": null,
   "metadata": {
    "id": "I9Qmw4_oQbDF"
   },
   "outputs": [],
   "source": [
    "%pip install line_profiler\n",
    "%load_ext line_profiler\n",
    "import math\n",
    "\n",
    "def log_list():\n",
    "\n",
    "  my_list = list(range(1,1000000))\n",
    "\n",
    "  result_list=[]\n",
    "  for value in my_list:\n",
    "    result_list.append(math.log(value))\n",
    "\n",
    "  return result_list\n",
    "\n",
    "%lprun -f log_list print(log_list()[-10:])"
   ]
  },
  {
   "cell_type": "code",
   "execution_count": null,
   "metadata": {
    "id": "UwtgLkBjR0Z1"
   },
   "outputs": [],
   "source": [
    "%pip install line_profiler\n",
    "%load_ext line_profiler\n",
    "import math\n",
    "\n",
    "def log_list():\n",
    "\n",
    "  my_list = list(range(1,1000000))\n",
    "\n",
    "  return list(map(math.log, my_list))\n",
    "\n",
    "%lprun -f log_list print(log_list()[-10:])"
   ]
  },
  {
   "cell_type": "markdown",
   "metadata": {
    "id": "kXMJTA8WR9CU"
   },
   "source": [
    "The second code runs in about half the time. Once you're familiar with the ```map``` function it's also about as readable as the ```for``` loop version.\n",
    "\n",
    "The ```map``` function can also be applied to ```lambda``` functions (if you don't know what this means, don't worry) and, with a little [extra work](https://stackoverflow.com/questions/10834960/how-to-do-multiple-arguments-to-map-function-where-one-remains-the-same-in-pytho), can be applied to functions which take multiple arguments.\n",
    "\n",
    "It can also be applied to a range construct directly (which is acyually faster than applying it to an equivalent list). Using the ```sum()``` function on a ```map``` will evaluate all the values in the map and return the sum of them:"
   ]
  },
  {
   "cell_type": "code",
   "execution_count": null,
   "metadata": {
    "id": "DK93JOcMoPa6"
   },
   "outputs": [],
   "source": [
    "%pip install line_profiler\n",
    "%load_ext line_profiler\n",
    "import math\n",
    "\n",
    "def square_root_sum(n):\n",
    "  # Two methods to calculate the sum of the square roots of all numbers up to n\n",
    "\n",
    "  # Convert to a list\n",
    "  result_1 = sum(map(math.sqrt, list(range(n))))\n",
    "\n",
    "  # Map operates directly on a range\n",
    "  result_2 = sum(map(math.sqrt, range(n)))\n",
    "\n",
    "  # Both methods produce the same answer\n",
    "  print(result_1, result_2)\n",
    "\n",
    "%lprun -f square_root_sum square_root_sum(100000)"
   ]
  },
  {
   "cell_type": "markdown",
   "metadata": {
    "id": "AgQ-h34Hn53K"
   },
   "source": [
    "## Loop Control\n",
    "\n",
    "It's possible to cause a loop to finish early using the ```break``` command. This command causes the innermost loop currently running to exit. This can be useful when your code is to find if a statement is true. By breaking a loop early when the final result has been determined, it's possible to prevent unnecessary executions of the contents of the loop.\n",
    "\n",
    "For example, consider the two versions of the code below determines if a number is included in a string:"
   ]
  },
  {
   "cell_type": "code",
   "execution_count": null,
   "metadata": {
    "id": "KBkADZI5yiro"
   },
   "outputs": [],
   "source": [
    "%pip install line_profiler\n",
    "%load_ext line_profiler\n",
    "\n",
    "def contains_number(string):\n",
    "  # Initially assume the string doesn't contain a number\n",
    "  contains_number = False\n",
    "\n",
    "  for letter in string:\n",
    "    # Check if each character is a string\n",
    "    if letter in \"1234567890\":\n",
    "      # If it is, reflect this by changing contains_number to True\n",
    "      contains_number = True\n",
    "\n",
    "  return contains_number\n",
    "\n",
    "def get_random_string(length):\n",
    "  # This function generates a random string\n",
    "  # Don't worry about how it works\n",
    "  import random\n",
    "  import string\n",
    "  random_string = ''.join([random.choice(string.ascii_letters + string.digits) for n in range(length)])\n",
    "  return random_string\n",
    "\n",
    "def check_strings(n_strings, length):\n",
    "  # This function generates n_strings strings, each of length length and checks if each of them contains a number\n",
    "\n",
    "  n_with_numbers = 0\n",
    "  \n",
    "  for i in range(n_strings):\n",
    "    string = get_random_string(length)\n",
    "    if contains_number(string):\n",
    "      n_with_numbers = n_with_numbers + 1\n",
    "\n",
    "  print(n_with_numbers)\n",
    "\n",
    "%lprun -f contains_number check_strings(100000, 10)"
   ]
  },
  {
   "cell_type": "code",
   "execution_count": null,
   "metadata": {
    "id": "fAlPmCQYAiXj"
   },
   "outputs": [],
   "source": [
    "%pip install line_profiler\n",
    "%load_ext line_profiler\n",
    "\n",
    "def contains_number(string):\n",
    "  # Initially assume the string doesn't contain a number\n",
    "  contains_number = False\n",
    "\n",
    "  for letter in string:\n",
    "    # Check if each character is a string\n",
    "    if letter in \"1234567890\":\n",
    "      # If it is, reflect this by changing contains_number to True\n",
    "      contains_number = True\n",
    "      # The only change is add \"break\" here so we stop checking characters after finding a number\n",
    "      break\n",
    "\n",
    "  return contains_number\n",
    "\n",
    "def get_random_string(length):\n",
    "  # This function generates a random string with a specified length\n",
    "  # Don't worry about how it works\n",
    "  import random\n",
    "  import string\n",
    "  random_string = ''.join([random.choice(string.ascii_letters + string.digits) for n in range(length)])\n",
    "  return random_string\n",
    "\n",
    "def check_strings(n_strings, length):\n",
    "  # This function generates n_strings strings, each of length length and checks if each of them contains a number\n",
    "\n",
    "  n_with_numbers = 0\n",
    "  \n",
    "  for i in range(n_strings):\n",
    "    string = get_random_string(length)\n",
    "    if contains_number(string):\n",
    "      n_with_numbers = n_with_numbers + 1\n",
    "\n",
    "  print(n_with_numbers)\n",
    "\n",
    "%lprun -f contains_number check_strings(100000, 10)"
   ]
  },
  {
   "cell_type": "markdown",
   "metadata": {
    "id": "_In0hh_PA5AB"
   },
   "source": [
    "Note that the number of times lines 10 (the contents of the loop) is carried out is decreased significantly."
   ]
  },
  {
   "cell_type": "markdown",
   "metadata": {
    "id": "faJJxFumyh7D"
   },
   "source": [
    "## Exercise\n",
    "Below is a code which uses three nested loops. Using the techniques described above, optimise the second copy of the code. Ensure the result remains the same to within 5 significant figures. Note that there are three sample solutions with progressively greater optimisation."
   ]
  },
  {
   "cell_type": "code",
   "execution_count": null,
   "metadata": {
    "id": "I2cZ4sjKS3o0"
   },
   "outputs": [],
   "source": [
    "# The original version\n",
    "%pip install line_profiler\n",
    "%load_ext line_profiler\n",
    "import math\n",
    "\n",
    "def loopy_function():\n",
    "\n",
    "  my_list=[]\n",
    "\n",
    "  for i in range(100):\n",
    "    my_list.append(i**2)\n",
    "\n",
    "  result = 0\n",
    "\n",
    "  for i in range(100):\n",
    "    for j in range(100):\n",
    "      temp_var = math.sqrt(j)\n",
    "      for k in range(100):\n",
    "        result = result + math.tan(my_list[i]) + k + temp_var\n",
    "\n",
    "  return result\n",
    "\n",
    "%lprun -f loopy_function print(loopy_function())"
   ]
  },
  {
   "cell_type": "code",
   "execution_count": null,
   "metadata": {
    "id": "0g4vvOPjZOoY"
   },
   "outputs": [],
   "source": [
    "# Edit this version\n",
    "%pip install line_profiler\n",
    "%load_ext line_profiler\n",
    "import math\n",
    "\n",
    "def loopy_function():\n",
    "\n",
    "  my_list=[]\n",
    "\n",
    "  for i in range(100):\n",
    "    my_list.append(i**2)\n",
    "\n",
    "  result = 0\n",
    "\n",
    "  for i in range(100):\n",
    "    for j in range(100):\n",
    "      temp_var = math.sqrt(j)\n",
    "      for k in range(100):\n",
    "        result = result + math.tan(my_list[i]) + k + temp_var\n",
    "\n",
    "  return result\n",
    "\n",
    "%lprun -f loopy_function print(loopy_function())"
   ]
  },
  {
   "cell_type": "code",
   "execution_count": null,
   "metadata": {
    "cellView": "form",
    "id": "gvuXPyGmT8np"
   },
   "outputs": [],
   "source": [
    "#@title\n",
    "# The first optimisation is to note that the inner loop always multiplies tan(my_list[j]) by 100 whilst adding (99+0)*100/2=4950\n",
    "# This optimisation should occur first as it's in an inner loop and, as shown by the profiling, takes up most of the time\n",
    "# We see this immediately reduces the time taken for the function to run by a factor of ~100 as we've eliminated the innermost loop\n",
    "%pip install line_profiler\n",
    "%load_ext line_profiler\n",
    "import math\n",
    "\n",
    "def loopy_function():\n",
    "\n",
    "  my_list=[]\n",
    "\n",
    "  for i in range(100):\n",
    "    my_list.append(i**2)\n",
    "\n",
    "  result = 0\n",
    "\n",
    "  for i in range(100):\n",
    "    for j in range(100):\n",
    "      temp_var = math.sqrt(j)\n",
    "      result = result + 100 * (math.tan(my_list[i]) + temp_var) + 4950\n",
    "\n",
    "  return result\n",
    "\n",
    "%lprun -f loopy_function print(loopy_function())"
   ]
  },
  {
   "cell_type": "code",
   "execution_count": null,
   "metadata": {
    "cellView": "form",
    "id": "nbFYEw-IVHFn"
   },
   "outputs": [],
   "source": [
    "#@title\n",
    "# The second optimisation is to note that we can replace the inner loop with a map function which we then take the sum of\n",
    "# In addition, we can move this map outside of the outer loop entirely as we are simply adding temp_var to result each time\n",
    "# We can alo remove the loop over j and replace it with a list comprehension\n",
    "%pip install line_profiler\n",
    "%load_ext line_profiler\n",
    "import math\n",
    "\n",
    "def loopy_function():\n",
    "\n",
    "  my_list=[]\n",
    "\n",
    "  for i in range(100):\n",
    "    my_list.append(i**2)\n",
    "\n",
    "  result = 0\n",
    "\n",
    "  for i in range(100):\n",
    "    result = result + 10000 * (math.tan(my_list[i])) + 495000\n",
    "\n",
    "  result = result + 10000 * sum(map(math.sqrt, range(100)))\n",
    "\n",
    "  return result\n",
    "\n",
    "%lprun -f loopy_function print(loopy_function())"
   ]
  },
  {
   "cell_type": "code",
   "execution_count": null,
   "metadata": {
    "cellView": "form",
    "id": "X9cXiDPiX-e5"
   },
   "outputs": [],
   "source": [
    "#@title\n",
    "# The third optimisation is to combine the two remaining loops and replace them with a map function that we take the sum of\n",
    "# We use a list comprehension to form the list passed to the map\n",
    "# The resultant function is approximately 10,000 times faster than the function we began with\n",
    "%pip install line_profiler\n",
    "%load_ext line_profiler\n",
    "import math\n",
    "\n",
    "def loopy_function():\n",
    "  result = 10000 * sum(map(math.tan, [i ** 2 for i in range(100)])) + 49500000\n",
    "\n",
    "  result = result + 10000 * sum(map(math.sqrt, range(100)))\n",
    "\n",
    "  return result\n",
    "\n",
    "%lprun -f loopy_function print(loopy_function())"
   ]
  }
 ],
 "metadata": {
  "colab": {
   "collapsed_sections": [],
   "name": "Optimisation_ Optimising Loops.ipynb",
   "provenance": []
  },
  "kernelspec": {
   "display_name": "Python 3.9.13 64-bit (microsoft store)",
   "language": "python",
   "name": "python3"
  },
  "language_info": {
   "codemirror_mode": {
    "name": "ipython",
    "version": 3
   },
   "file_extension": ".py",
   "mimetype": "text/x-python",
   "name": "python",
   "nbconvert_exporter": "python",
   "pygments_lexer": "ipython3",
   "version": "3.9.13"
  },
  "vscode": {
   "interpreter": {
    "hash": "5dbf766eb95023f9dddb799b5381b4ed6a9322e38632e8ac1570872c767b304b"
   }
  }
 },
 "nbformat": 4,
 "nbformat_minor": 0
}
